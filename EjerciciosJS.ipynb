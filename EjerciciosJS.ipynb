{
 "cells": [
  {
   "cell_type": "markdown",
   "id": "189ddb2d",
   "metadata": {},
   "source": [
    "<h1 style=\"text-align: center; font-size: 2.5em; color: #2E86C1; font-family: 'Arial', sans-serif;\">\n",
    "    Recopilación de ejercicios de JavaScript (condicionales y bucles)\n",
    "</h1>"
   ]
  },
  {
   "cell_type": "markdown",
   "id": "7066b6fa",
   "metadata": {},
   "source": [
    "<div style=\"text-align:center; font-weight:bold; font-size: 24px;\">\n",
    "Elia Galiana Sanabria\n",
    "</div>"
   ]
  },
  {
   "cell_type": "markdown",
   "id": "fe214fa3",
   "metadata": {},
   "source": [
    "<hr style=\"margin-bottom: 40px;\">"
   ]
  },
  {
   "cell_type": "markdown",
   "id": "f1ce8220",
   "metadata": {},
   "source": [
    "##### Ejercicio 1: Pedimos un nombre y una edad, y mostramos un mensaje personalizado con esos datos usando prompt() y alert()."
   ]
  },
  {
   "cell_type": "code",
   "execution_count": null,
   "id": "0632ccc0",
   "metadata": {
    "vscode": {
     "languageId": "javascript"
    }
   },
   "outputs": [],
   "source": [
    "let nombre = prompt('Dime tu nombre')\n",
    "let edad = Number(prompt('Dime tu edad'))\n",
    "\n",
    "alert(`Hola ${nombre}, tienes ${edad} años.`)"
   ]
  },
  {
   "cell_type": "markdown",
   "id": "3d469f18",
   "metadata": {},
   "source": [
    "##### Ejercicio 2: Introducimos un número entero y comprobamos si es par o impar utilizando el operador módulo % y una estructura condicional if...else."
   ]
  },
  {
   "cell_type": "code",
   "execution_count": null,
   "id": "49b36619",
   "metadata": {
    "vscode": {
     "languageId": "javascript"
    }
   },
   "outputs": [],
   "source": [
    "let numero = parseInt(prompt('Dime un numero entero'))\n",
    "\n",
    "if (numero % 2 !== 0) {\n",
    "    alert('El numero es impar')\n",
    "} else {\n",
    "    alert('El numero es par')\n",
    "}"
   ]
  },
  {
   "cell_type": "markdown",
   "id": "1932040a",
   "metadata": {},
   "source": [
    "##### Ejercicio 3: Introducimos un número y mostramos por consola su tabla de multiplicar del 1 al 10 utilizando un bucle for."
   ]
  },
  {
   "cell_type": "code",
   "execution_count": null,
   "id": "c239998e",
   "metadata": {
    "vscode": {
     "languageId": "javascript"
    }
   },
   "outputs": [],
   "source": [
    "let n = Number(prompt('Dime un numero y te digo su tabla de multiplicar'))\n",
    "let resultado = 1\n",
    "\n",
    "for (let i = 1; i <= 10; i++) {\n",
    "    resultado = n * i\n",
    "    console.log(`${n} x ${i} = ${resultado}`);\n",
    "}"
   ]
  },
  {
   "cell_type": "markdown",
   "id": "5c20e20f",
   "metadata": {},
   "source": [
    "##### Ejercicio 4: Introducimos un número y mostramos por consola todos los números pares desde 1 hasta el valor indicado utilizando un bucle for."
   ]
  },
  {
   "cell_type": "code",
   "execution_count": null,
   "id": "97e091fe",
   "metadata": {
    "vscode": {
     "languageId": "javascript"
    }
   },
   "outputs": [],
   "source": [
    "let n = Number(prompt('Dime un numero'))\n",
    "\n",
    "for (let i = 1; i <= n; i++) {\n",
    "    if (i % 2 === 0) {\n",
    "        console.log(i);\n",
    "    } \n",
    "}"
   ]
  },
  {
   "cell_type": "markdown",
   "id": "c6d84ba4",
   "metadata": {},
   "source": [
    "##### Ejercicio 5: Introducimos una palabra y mostramos cuántas letras tiene recorriéndola con un bucle for...of y contando cada carácter manualmente."
   ]
  },
  {
   "cell_type": "code",
   "execution_count": null,
   "id": "2291040a",
   "metadata": {
    "vscode": {
     "languageId": "javascript"
    }
   },
   "outputs": [],
   "source": [
    "let palabra = prompt('Dime una palabra').toLowerCase();\n",
    "let suma = 0\n",
    "\n",
    "for (let letras of palabra) {\n",
    "    suma++\n",
    "}\n",
    "alert(`La palabra tiene ${suma} letras`)"
   ]
  },
  {
   "cell_type": "markdown",
   "id": "edeecdb4",
   "metadata": {},
   "source": [
    "##### Ejercicio 6: Introducimos una palabra y contamos cuántas vocales contiene recorriéndola con un bucle for...of y comprobando cada carácter."
   ]
  },
  {
   "cell_type": "code",
   "execution_count": null,
   "id": "482a932a",
   "metadata": {
    "vscode": {
     "languageId": "javascript"
    }
   },
   "outputs": [],
   "source": [
    "let palabra = prompt('Dime una palabra').toLowerCase();\n",
    "let contador = 0\n",
    "\n",
    "for (let vocal of palabra) {\n",
    "    if (\n",
    "        vocal == \"a\" ||\n",
    "        vocal == \"e\" ||\n",
    "        vocal == \"i\" ||\n",
    "        vocal == \"o\" ||\n",
    "        vocal == \"u\" \n",
    "    ) {\n",
    "        contador++\n",
    "    }\n",
    "}\n",
    "alert(`La palabra tiene ${contador} vocales`)"
   ]
  },
  {
   "cell_type": "markdown",
   "id": "a12bffe0",
   "metadata": {},
   "source": [
    "##### Ejercicio 7: Introducimos un número y mostramos por consola sus potencias desde el exponente 1 hasta 5 utilizando un bucle for y el operador de potencia **."
   ]
  },
  {
   "cell_type": "code",
   "execution_count": null,
   "id": "125876bb",
   "metadata": {
    "vscode": {
     "languageId": "javascript"
    }
   },
   "outputs": [],
   "source": [
    "let n = Number(prompt('Dime un numero'))\n",
    "let exponente = 0\n",
    "let resultado = 0\n",
    "\n",
    "for (let i = 1; i <= 5; i++) {\n",
    "    exponente = i\n",
    "    resultado = n**i\n",
    "    console.log(`${n}^${exponente} = ${resultado}`);\n",
    "}"
   ]
  },
  {
   "cell_type": "markdown",
   "id": "5cd2caf9",
   "metadata": {},
   "source": [
    "##### Ejercicio 8: Calculamos la suma de todos los números impares del 1 al 100 utilizando un bucle for y una estructura condicional."
   ]
  },
  {
   "cell_type": "code",
   "execution_count": null,
   "id": "0474a499",
   "metadata": {
    "vscode": {
     "languageId": "javascript"
    }
   },
   "outputs": [],
   "source": [
    "let suma = 0\n",
    "\n",
    "for (let i = 1; i <= 100; i++) {\n",
    "    if (i % 2 !== 0) {\n",
    "        suma += i\n",
    "    }\n",
    "}\n",
    "console.log(suma);"
   ]
  },
  {
   "cell_type": "markdown",
   "id": "5d17a0cd",
   "metadata": {},
   "source": [
    "##### Ejercicio 9: Generamos un número secreto aleatorio entre 0 y 10 y pedimos al usuario que lo adivine mediante un bucle while, mostrando pistas si el número es mayor o menor."
   ]
  },
  {
   "cell_type": "code",
   "execution_count": null,
   "id": "9897a77e",
   "metadata": {
    "vscode": {
     "languageId": "javascript"
    }
   },
   "outputs": [],
   "source": [
    "const numeroSecreto = Math.floor(Math.random() * 10)\n",
    "let intento = Number(prompt('Dime un numero del 0 al 10'))\n",
    "\n",
    "while (intento !== numeroSecreto) {\n",
    "    if (intento < numeroSecreto) {\n",
    "    alert('Es mayor')\n",
    "    } else {\n",
    "    alert('Es menor')\n",
    "    }\n",
    "\n",
    "    intento = Number(prompt('Dime un numero del 0 al 10'))\n",
    "}\n",
    "\n",
    "alert('Has acertado')"
   ]
  }
 ],
 "metadata": {
  "kernelspec": {
   "display_name": "Python 3",
   "language": "python",
   "name": "python3"
  },
  "language_info": {
   "codemirror_mode": {
    "name": "ipython",
    "version": 3
   },
   "file_extension": ".py",
   "mimetype": "text/x-python",
   "name": "python",
   "nbconvert_exporter": "python",
   "pygments_lexer": "ipython3",
   "version": "3.10.11"
  }
 },
 "nbformat": 4,
 "nbformat_minor": 5
}
